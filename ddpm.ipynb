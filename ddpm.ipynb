{
 "cells": [
  {
   "cell_type": "code",
   "execution_count": 1,
   "metadata": {},
   "outputs": [
    {
     "name": "stdout",
     "output_type": "stream",
     "text": [
      "True\n",
      "1\n",
      "NVIDIA GeForce RTX 2050\n"
     ]
    }
   ],
   "source": [
    "import torch\n",
    "print(torch.cuda.is_available())\n",
    "print(torch.cuda.device_count())\n",
    "print(torch.cuda.get_device_name(0))"
   ]
  },
  {
   "cell_type": "code",
   "execution_count": 2,
   "metadata": {},
   "outputs": [
    {
     "name": "stdout",
     "output_type": "stream",
     "text": [
      "Note: you may need to restart the kernel to use updated packages.\n"
     ]
    },
    {
     "name": "stderr",
     "output_type": "stream",
     "text": [
      "\n",
      "[notice] A new release of pip is available: 24.0 -> 25.0.1\n",
      "[notice] To update, run: python.exe -m pip install --upgrade pip\n"
     ]
    }
   ],
   "source": [
    "%pip install -q -U einops datasets matplotlib tqdm"
   ]
  },
  {
   "cell_type": "code",
   "execution_count": 3,
   "metadata": {},
   "outputs": [
    {
     "name": "stderr",
     "output_type": "stream",
     "text": [
      "c:\\Akshay\\Projects\\diffusion-implementation\\.venv\\Lib\\site-packages\\tqdm\\auto.py:21: TqdmWarning: IProgress not found. Please update jupyter and ipywidgets. See https://ipywidgets.readthedocs.io/en/stable/user_install.html\n",
      "  from .autonotebook import tqdm as notebook_tqdm\n"
     ]
    }
   ],
   "source": [
    "import math #useful for sine cos etc\n",
    "from inspect import isfunction #check if stuff is func\n",
    "from functools import partial #allows you to define functions using other functions\n",
    "\n",
    "%matplotlib inline\n",
    "import matplotlib.pyplot as plt #Standard\n",
    "from tqdm.auto import tqdm #pretty progress bars\n",
    "from einops import rearrange, reduce #tensor operations\n",
    "from einops.layers.torch import Rearrange #layer based rather than tensor\n",
    "\n",
    "import torch\n",
    "from torch import nn, einsum #einsum is a kind of notation\n",
    "import torch.nn.functional as F #useful funcs like relu sigmoid, mse cs, ppoling and dropout \n",
    "\n"
   ]
  },
  {
   "cell_type": "markdown",
   "metadata": {},
   "source": [
    "right now we have gotten all the imports done\n",
    "The very first step in the ddpm is to define a variance schedule\n",
    "This acts as a hyperparameter of β1 β2 ... βT where T=1000 is a hyperparameter\n",
    "T= 1000 in the original DDPM paper.\n",
    "\n",
    "Recall that the sequence of \"noisening\" the input images is following the equation \n",
    "\n",
    "![gaussian noise equation](images/eq1.png)"
   ]
  },
  {
   "cell_type": "markdown",
   "metadata": {},
   "source": [
    "The above equation refers to the forward  process, in this process we convert an image to a slightly noisier representation of itself\n",
    "The variable xt refers to the input image x0 at timestamp t in the variance schedule (β1....βt....βT).\n",
    "Therefore the t'th image relies on the t-1'th image. It is sampled from the normal distribution, where the mean is\n",
    "root(1-β t) (often abbreviated as root(alpha t))\n",
    "and covariance matrix is β t * I (I is identity matrix)\n",
    "\n",
    "Now you might be asking:\n",
    "> Why do we use a matrix where a variance should be there?\n",
    "\n",
    "This is because the xt might be a multivariate distribution. What does this mean simply? There may be multiple features and dimensions to xt. Multiplying by I essentially sets the \"variance of that particular dimension/feature\" to β t.\n"
   ]
  },
  {
   "cell_type": "markdown",
   "metadata": {},
   "source": [
    "Note that the βt aren't constant at each time step t (hence the subscript) --- in fact one defines a so-called \"variance schedule\", which can be linear, quadratic, cosine, etc. as we will see further (a bit like a learning rate schedule).\n"
   ]
  }
 ],
 "metadata": {
  "kernelspec": {
   "display_name": ".venv",
   "language": "python",
   "name": "python3"
  },
  "language_info": {
   "codemirror_mode": {
    "name": "ipython",
    "version": 3
   },
   "file_extension": ".py",
   "mimetype": "text/x-python",
   "name": "python",
   "nbconvert_exporter": "python",
   "pygments_lexer": "ipython3",
   "version": "3.11.8"
  }
 },
 "nbformat": 4,
 "nbformat_minor": 2
}
